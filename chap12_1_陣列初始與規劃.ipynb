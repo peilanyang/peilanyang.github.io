{
  "cells": [
    {
      "cell_type": "markdown",
      "metadata": {
        "id": "view-in-github",
        "colab_type": "text"
      },
      "source": [
        "<a href=\"https://colab.research.google.com/github/peilanyang/peilanyang.github.io/blob/master/chap12_1_%E9%99%A3%E5%88%97%E5%88%9D%E5%A7%8B%E8%88%87%E8%A6%8F%E5%8A%83.ipynb\" target=\"_parent\"><img src=\"https://colab.research.google.com/assets/colab-badge.svg\" alt=\"Open In Colab\"/></a>"
      ]
    },
    {
      "cell_type": "code",
      "source": [
        "import numpy as np\n",
        "a = np.array([[3, 4, 5],\n",
        "        [7, 8, 9]])\n",
        "print(a.ndim)\n",
        "print(a.shape)\n",
        "print(a.size)\n",
        "print(a.dtype)"
      ],
      "metadata": {
        "colab": {
          "base_uri": "https://localhost:8080/"
        },
        "id": "an8_qG9XE1Rq",
        "outputId": "338c38ff-999a-4a1f-f72d-c6f7c48cd1c2"
      },
      "execution_count": null,
      "outputs": [
        {
          "output_type": "stream",
          "name": "stdout",
          "text": [
            "2\n",
            "(2, 3)\n",
            "6\n",
            "int64\n"
          ]
        }
      ]
    },
    {
      "cell_type": "code",
      "source": [
        "# numpy 可用方法\n",
        "np.empty((2,4))"
      ],
      "metadata": {
        "colab": {
          "base_uri": "https://localhost:8080/"
        },
        "id": "lW4yeRRnFZ5H",
        "outputId": "fce369b5-5a64-4974-de30-e418723f3bb1"
      },
      "execution_count": null,
      "outputs": [
        {
          "output_type": "execute_result",
          "data": {
            "text/plain": [
              "array([[4.68429807e-310, 3.60739284e-313, 2.05833592e-312,\n",
              "        4.68429807e-310],\n",
              "       [0.00000000e+000, 0.00000000e+000, 9.88131292e-324,\n",
              "        0.00000000e+000]])"
            ]
          },
          "metadata": {},
          "execution_count": 6
        }
      ]
    },
    {
      "cell_type": "code",
      "source": [
        "# numpy 可用方法\n",
        "np.zeros( (3,4) ).astype('int')"
      ],
      "metadata": {
        "colab": {
          "base_uri": "https://localhost:8080/"
        },
        "id": "NMeCufBKFhrn",
        "outputId": "4108e163-cd71-4200-aef7-5e1591a776e4"
      },
      "execution_count": null,
      "outputs": [
        {
          "output_type": "execute_result",
          "data": {
            "text/plain": [
              "array([[0, 0, 0, 0],\n",
              "       [0, 0, 0, 0],\n",
              "       [0, 0, 0, 0]])"
            ]
          },
          "metadata": {},
          "execution_count": 6
        }
      ]
    },
    {
      "cell_type": "code",
      "source": [
        "# numpy 可用方法\n",
        "np.ones( (5,2) )"
      ],
      "metadata": {
        "colab": {
          "base_uri": "https://localhost:8080/"
        },
        "id": "0mDNt1GnFqfu",
        "outputId": "84176320-6256-486a-da41-5bf0c540d8c1"
      },
      "execution_count": null,
      "outputs": [
        {
          "output_type": "execute_result",
          "data": {
            "text/plain": [
              "array([[1., 1.],\n",
              "       [1., 1.],\n",
              "       [1., 1.],\n",
              "       [1., 1.],\n",
              "       [1., 1.]])"
            ]
          },
          "metadata": {},
          "execution_count": 7
        }
      ]
    },
    {
      "cell_type": "code",
      "source": [
        "# numpy 可用方法\n",
        "np.full( (3,3) , 2 )"
      ],
      "metadata": {
        "colab": {
          "base_uri": "https://localhost:8080/"
        },
        "id": "KaE2sZIQFxqP",
        "outputId": "91549a54-7ac2-442e-faee-2da2ac1bf0de"
      },
      "execution_count": null,
      "outputs": [
        {
          "output_type": "execute_result",
          "data": {
            "text/plain": [
              "array([[2, 2, 2],\n",
              "       [2, 2, 2],\n",
              "       [2, 2, 2]])"
            ]
          },
          "metadata": {},
          "execution_count": 9
        }
      ]
    },
    {
      "cell_type": "code",
      "source": [
        "# numpy 可用方法\n",
        "np.eye(3).astype('int')\n"
      ],
      "metadata": {
        "colab": {
          "base_uri": "https://localhost:8080/"
        },
        "id": "vPXYfWokF8r_",
        "outputId": "4545a8b5-8b41-4dc3-9d32-f63fc92d91a2"
      },
      "execution_count": null,
      "outputs": [
        {
          "output_type": "execute_result",
          "data": {
            "text/plain": [
              "array([[1, 0, 0],\n",
              "       [0, 1, 0],\n",
              "       [0, 0, 1]])"
            ]
          },
          "metadata": {},
          "execution_count": 11
        }
      ]
    },
    {
      "cell_type": "code",
      "source": [
        "# numpy 可用方法\n",
        "np.diag( [1,2,3,4] )"
      ],
      "metadata": {
        "colab": {
          "base_uri": "https://localhost:8080/"
        },
        "id": "IQd84BWpGCcj",
        "outputId": "9d9118d5-b126-402c-b21b-76b401034ab2"
      },
      "execution_count": null,
      "outputs": [
        {
          "output_type": "execute_result",
          "data": {
            "text/plain": [
              "array([[1, 0, 0, 0],\n",
              "       [0, 2, 0, 0],\n",
              "       [0, 0, 3, 0],\n",
              "       [0, 0, 0, 4]])"
            ]
          },
          "metadata": {},
          "execution_count": 12
        }
      ]
    },
    {
      "cell_type": "code",
      "source": [
        "#################\n",
        "# reshape\n",
        "#################\n",
        "import numpy as np\n",
        "a = np.array([[3, 4, 5],\n",
        "              [7, 8, 9]])\n",
        "print(a.shape)\n",
        "a"
      ],
      "metadata": {
        "colab": {
          "base_uri": "https://localhost:8080/"
        },
        "id": "32yEjqDBG491",
        "outputId": "f65fe0d7-a305-4d20-b802-a59bc8c9d0d4"
      },
      "execution_count": null,
      "outputs": [
        {
          "output_type": "stream",
          "name": "stdout",
          "text": [
            "(2, 3)\n"
          ]
        },
        {
          "output_type": "execute_result",
          "data": {
            "text/plain": [
              "array([[3, 4, 5],\n",
              "       [7, 8, 9]])"
            ]
          },
          "metadata": {},
          "execution_count": 14
        }
      ]
    },
    {
      "cell_type": "code",
      "source": [
        "#變形\n",
        "a.reshape(3, 2)"
      ],
      "metadata": {
        "colab": {
          "base_uri": "https://localhost:8080/"
        },
        "id": "7H2f5F1SHKKs",
        "outputId": "47fc7973-f629-45d5-fe9a-af001751a406"
      },
      "execution_count": null,
      "outputs": [
        {
          "output_type": "execute_result",
          "data": {
            "text/plain": [
              "array([[3, 4],\n",
              "       [5, 7],\n",
              "       [8, 9]])"
            ]
          },
          "metadata": {},
          "execution_count": 15
        }
      ]
    },
    {
      "cell_type": "code",
      "source": [
        "#變形 (1,6)\n",
        "a.reshape(1, -1) # 1, -1:表示COLUMN為主"
      ],
      "metadata": {
        "colab": {
          "base_uri": "https://localhost:8080/"
        },
        "id": "mNhiqB2hHGow",
        "outputId": "096cf88c-f5bc-4b3a-9def-20f298aa704e"
      },
      "execution_count": null,
      "outputs": [
        {
          "output_type": "execute_result",
          "data": {
            "text/plain": [
              "array([[3, 4, 5, 7, 8, 9]])"
            ]
          },
          "metadata": {},
          "execution_count": 16
        }
      ]
    },
    {
      "cell_type": "code",
      "source": [
        "#變形 (6,1)\n",
        "a.reshape(-1, 1) # -1, 1:表示ROW為主"
      ],
      "metadata": {
        "colab": {
          "base_uri": "https://localhost:8080/"
        },
        "id": "NT3Mtb9qG_Qo",
        "outputId": "7a5b57d8-3008-4fe6-ab2a-00720c5ef668"
      },
      "execution_count": null,
      "outputs": [
        {
          "output_type": "execute_result",
          "data": {
            "text/plain": [
              "array([[3],\n",
              "       [4],\n",
              "       [5],\n",
              "       [7],\n",
              "       [8],\n",
              "       [9]])"
            ]
          },
          "metadata": {},
          "execution_count": 17
        }
      ]
    },
    {
      "cell_type": "code",
      "source": [
        "# 為何需要reshape\n",
        "# 案例 建立 Machine learninge\n",
        "# 特徵(資料屬性 花的長寬) vs 答案(種類)\n",
        "from sklearn import datasets\n",
        "iris = datasets.load_iris()\n",
        "iris.data.shape, iris.target.reshape(-1, 1).shape"
      ],
      "metadata": {
        "id": "8PlXg908IAhc"
      },
      "execution_count": null,
      "outputs": []
    },
    {
      "cell_type": "code",
      "source": [
        "# 為何需要reshape\n",
        "# 合併\n",
        "# np.hstack( (iris.data, iris.target) )\n",
        "np.hstack( (iris.data, iris.target.reshape(-1, 1)) )"
      ],
      "metadata": {
        "id": "EIhQUq2aI67M"
      },
      "execution_count": null,
      "outputs": []
    },
    {
      "cell_type": "code",
      "source": [
        "# numpy 可用方法\n",
        "# for i in range(0, 5, 0.1):\n",
        "#     print(i)\n",
        "import numpy as np\n",
        "for i in np.arange(0, 1.1, 0.1): # 包含頭 不含尾\n",
        "    print(i)"
      ],
      "metadata": {
        "colab": {
          "base_uri": "https://localhost:8080/"
        },
        "id": "ioQ5L41FJnLR",
        "outputId": "b4295dab-5845-4bd8-bd82-332801117fbe"
      },
      "execution_count": null,
      "outputs": [
        {
          "output_type": "stream",
          "name": "stdout",
          "text": [
            "0.0\n",
            "0.1\n",
            "0.2\n",
            "0.30000000000000004\n",
            "0.4\n",
            "0.5\n",
            "0.6000000000000001\n",
            "0.7000000000000001\n",
            "0.8\n",
            "0.9\n",
            "1.0\n"
          ]
        }
      ]
    },
    {
      "cell_type": "code",
      "source": [
        "# numpy 可用方法\n",
        "import numpy as np\n",
        "for i in np.linspace(1, 5, 5): # 包含頭尾\n",
        "    print(i)"
      ],
      "metadata": {
        "colab": {
          "base_uri": "https://localhost:8080/"
        },
        "id": "-oReMfFbJ63J",
        "outputId": "992591fe-af7e-4e06-f74a-9275bb0ff71f"
      },
      "execution_count": null,
      "outputs": [
        {
          "output_type": "stream",
          "name": "stdout",
          "text": [
            "1.0\n",
            "2.0\n",
            "3.0\n",
            "4.0\n",
            "5.0\n"
          ]
        }
      ]
    },
    {
      "cell_type": "code",
      "source": [
        "# Exam\n",
        "import numpy as np\n",
        "r1 = np.arange(25, 30, .5)\n",
        "print(\"r1=>\",r1)\n"
      ],
      "metadata": {
        "colab": {
          "base_uri": "https://localhost:8080/"
        },
        "id": "8kjUgBd8Kxr2",
        "outputId": "aceb85a5-91c4-433f-c51d-e530eb83747c"
      },
      "execution_count": null,
      "outputs": [
        {
          "output_type": "stream",
          "name": "stdout",
          "text": [
            "r1=> [25.  25.5 26.  26.5 27.  27.5 28.  28.5 29.  29.5]\n"
          ]
        }
      ]
    },
    {
      "cell_type": "code",
      "source": [
        "# Exam\n",
        "import numpy as np\n",
        "lin = np.linspace(3, 5, 9)\n",
        "print(\"r1=>\",lin)\n"
      ],
      "metadata": {
        "colab": {
          "base_uri": "https://localhost:8080/"
        },
        "id": "tHRdOOzGK7rS",
        "outputId": "eb2dfb49-b84d-475b-f089-a9b72ad4f4a8"
      },
      "execution_count": null,
      "outputs": [
        {
          "output_type": "stream",
          "name": "stdout",
          "text": [
            "r1=> [3.   3.25 3.5  3.75 4.   4.25 4.5  4.75 5.  ]\n"
          ]
        }
      ]
    },
    {
      "cell_type": "code",
      "source": [
        "import numpy as np\n",
        "a = np.array( [6, 7, 8, 9] )\n",
        "b = np.arange( 4 )\n",
        "#             [0, 1, 2, 3]\n",
        "c = a - b\n",
        "print(a)\n",
        "print(b)\n",
        "print(c)\n"
      ],
      "metadata": {
        "colab": {
          "base_uri": "https://localhost:8080/"
        },
        "id": "ksFwPIwMLDja",
        "outputId": "e749d9c0-178f-4689-b457-17c8b5ed2191"
      },
      "execution_count": null,
      "outputs": [
        {
          "output_type": "stream",
          "name": "stdout",
          "text": [
            "[6 7 8 9]\n",
            "[0 1 2 3]\n",
            "[6 6 6 6]\n"
          ]
        }
      ]
    },
    {
      "cell_type": "code",
      "source": [
        "d = b**2\n",
        "print(\"d=>\",d)"
      ],
      "metadata": {
        "colab": {
          "base_uri": "https://localhost:8080/"
        },
        "id": "2reGTanRLMlQ",
        "outputId": "021ffb29-9200-4eb1-9d17-2b33f76d56c6"
      },
      "execution_count": null,
      "outputs": [
        {
          "output_type": "stream",
          "name": "stdout",
          "text": [
            "d=> [0 1 4 9]\n"
          ]
        }
      ]
    },
    {
      "cell_type": "code",
      "source": [
        "########## numpy(0D, 1D, 2D, 3D, ...) --> pandas(numpy.2D)\n",
        "# numpy slicing\n",
        "# 重點\n",
        "# 學起來\n",
        "# data = pd.read_csv('example1.csv', header=None)\n",
        "# data[ data[5] > 100 ] <-----解說\n",
        "##########\n",
        "f  = np.array([5    , -1  ,     3,     9,    0])\n",
        "tf = np.array([False, True, False, False, True])\n",
        "f[ tf ]"
      ],
      "metadata": {
        "colab": {
          "base_uri": "https://localhost:8080/"
        },
        "id": "NZZqYBvNLXLP",
        "outputId": "a0de9afd-e11e-4e7a-d230-c6d989579324"
      },
      "execution_count": null,
      "outputs": [
        {
          "output_type": "execute_result",
          "data": {
            "text/plain": [
              "array([-1,  0])"
            ]
          },
          "metadata": {},
          "execution_count": 27
        }
      ]
    },
    {
      "cell_type": "code",
      "source": [
        "##########\n",
        "# numpy slicing\n",
        "# 重點\n",
        "##########\n",
        "f  = np.array([5    , -1  ,     3,     9,    0])\n",
        "tf = (f < 3)\n",
        "print(tf)\n",
        "f[ tf ]"
      ],
      "metadata": {
        "colab": {
          "base_uri": "https://localhost:8080/"
        },
        "id": "ffRWKlDuL16U",
        "outputId": "ed938879-1c54-4be7-a314-a990b5aa9c4b"
      },
      "execution_count": null,
      "outputs": [
        {
          "output_type": "stream",
          "name": "stdout",
          "text": [
            "[False  True False False  True]\n"
          ]
        },
        {
          "output_type": "execute_result",
          "data": {
            "text/plain": [
              "array([-1,  0])"
            ]
          },
          "metadata": {},
          "execution_count": 28
        }
      ]
    },
    {
      "cell_type": "code",
      "source": [
        "##########\n",
        "# numpy slicing\n",
        "# 重點\n",
        "# 學起來\n",
        "# data = pd.read_csv('example1.csv', header=None)\n",
        "# data[ data[5] > 100 ] <-----解說\n",
        "##########\n",
        "f  = np.array([5    , -1  ,     3,     9,    0])\n",
        "f[ f < 3 ]"
      ],
      "metadata": {
        "colab": {
          "base_uri": "https://localhost:8080/"
        },
        "id": "ymiCxfPtL_cq",
        "outputId": "ebdfd12a-ab29-4547-a367-8ddb5feb5f2f"
      },
      "execution_count": null,
      "outputs": [
        {
          "output_type": "execute_result",
          "data": {
            "text/plain": [
              "array([-1,  0])"
            ]
          },
          "metadata": {},
          "execution_count": 29
        }
      ]
    },
    {
      "cell_type": "code",
      "source": [
        "# Exam 留下偶數 請使用 numpy slicing\n",
        "import numpy as np\n",
        "a = np.array([3, 4, 5, 7, 8, 9])\n",
        "a[ a % 2 == 0 ]"
      ],
      "metadata": {
        "colab": {
          "base_uri": "https://localhost:8080/"
        },
        "id": "h4sgL8MjMbAf",
        "outputId": "0b757220-6c12-4539-a5d8-2e0dec4e0370"
      },
      "execution_count": null,
      "outputs": [
        {
          "output_type": "execute_result",
          "data": {
            "text/plain": [
              "array([4, 8])"
            ]
          },
          "metadata": {},
          "execution_count": 30
        }
      ]
    },
    {
      "cell_type": "code",
      "source": [
        "# Exam 留下奇數 且 數字 小於等於 5，請使用 numpy slicing\n",
        "import numpy as np\n",
        "a = np.array([3, 4, 5, 7, 8, 9])\n",
        "a[(a % 2 == 1) & (a <=5)]"
      ],
      "metadata": {
        "colab": {
          "base_uri": "https://localhost:8080/"
        },
        "id": "o7Ev9NjxNQTF",
        "outputId": "363f6b4a-97c5-4b27-c0ba-c0d272b85942"
      },
      "execution_count": null,
      "outputs": [
        {
          "output_type": "execute_result",
          "data": {
            "text/plain": [
              "array([3, 5])"
            ]
          },
          "metadata": {},
          "execution_count": 54
        }
      ]
    },
    {
      "cell_type": "code",
      "source": [
        "for aa in a:\n",
        "    if (aa % 2 == 1) and  (aa <=5):\n",
        "        print(aa)"
      ],
      "metadata": {
        "colab": {
          "base_uri": "https://localhost:8080/"
        },
        "id": "x_6ms4IKOHAS",
        "outputId": "6e8739dd-0a3b-4175-997a-134358907cf2"
      },
      "execution_count": null,
      "outputs": [
        {
          "output_type": "stream",
          "name": "stdout",
          "text": [
            "3\n",
            "5\n"
          ]
        }
      ]
    },
    {
      "cell_type": "code",
      "source": [
        "# Exam 留下奇數 且 數字 小於等於 5，請使用 numpy slicing\n",
        "%%time\n",
        "import numpy as np\n",
        "a = np.arange(10000000)\n",
        "a[(a % 2 == 1)]"
      ],
      "metadata": {
        "colab": {
          "base_uri": "https://localhost:8080/"
        },
        "id": "hmv4ttBFOUmB",
        "outputId": "f14376f0-f741-4503-feee-79551328c82d"
      },
      "execution_count": null,
      "outputs": [
        {
          "output_type": "stream",
          "name": "stdout",
          "text": [
            "CPU times: user 200 ms, sys: 572 µs, total: 200 ms\n",
            "Wall time: 202 ms\n"
          ]
        }
      ]
    },
    {
      "cell_type": "code",
      "source": [
        "%%time\n",
        "import numpy as np\n",
        "a = np.arange(10000000)\n",
        "total = []\n",
        "for aa in a:\n",
        "    if (aa % 2 == 1) :\n",
        "        total.append(aa)"
      ],
      "metadata": {
        "colab": {
          "base_uri": "https://localhost:8080/"
        },
        "id": "rIEhSlHXOfIo",
        "outputId": "bc5a6441-d853-442b-a669-54736063b262"
      },
      "execution_count": null,
      "outputs": [
        {
          "output_type": "stream",
          "name": "stdout",
          "text": [
            "CPU times: user 7.46 s, sys: 209 ms, total: 7.67 s\n",
            "Wall time: 7.77 s\n"
          ]
        }
      ]
    }
  ],
  "metadata": {
    "kernelspec": {
      "display_name": "Python 3",
      "language": "python",
      "name": "python3"
    },
    "language_info": {
      "codemirror_mode": {
        "name": "ipython",
        "version": 3
      },
      "file_extension": ".py",
      "mimetype": "text/x-python",
      "name": "python",
      "nbconvert_exporter": "python",
      "pygments_lexer": "ipython3",
      "version": "3.8.5"
    },
    "colab": {
      "provenance": [],
      "include_colab_link": true
    }
  },
  "nbformat": 4,
  "nbformat_minor": 0
}